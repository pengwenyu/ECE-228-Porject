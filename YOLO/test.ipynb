{
 "cells": [
  {
   "cell_type": "code",
   "execution_count": 1,
   "metadata": {},
   "outputs": [
    {
     "name": "stdout",
     "output_type": "stream",
     "text": [
      "c:\\Users\\Eachann\\Desktop\\228\\tt100k_2021\\yolov4-TT100k\n"
     ]
    },
    {
     "ename": "ModuleNotFoundError",
     "evalue": "No module named 'tt100k_2021'",
     "output_type": "error",
     "traceback": [
      "\u001b[1;31m---------------------------------------------------------------------------\u001b[0m",
      "\u001b[1;31mModuleNotFoundError\u001b[0m                       Traceback (most recent call last)",
      "\u001b[1;32mc:\\Users\\Eachann\\Desktop\\228\\tt100k_2021\\yolov4-TT100k\\test.ipynb Cell 1'\u001b[0m in \u001b[0;36m<cell line: 12>\u001b[1;34m()\u001b[0m\n\u001b[0;32m     <a href='vscode-notebook-cell:/c%3A/Users/Eachann/Desktop/228/tt100k_2021/yolov4-TT100k/test.ipynb#ch0000000?line=9'>10</a>\u001b[0m cwd \u001b[39m=\u001b[39m os\u001b[39m.\u001b[39mgetcwd()\n\u001b[0;32m     <a href='vscode-notebook-cell:/c%3A/Users/Eachann/Desktop/228/tt100k_2021/yolov4-TT100k/test.ipynb#ch0000000?line=10'>11</a>\u001b[0m \u001b[39mprint\u001b[39m(cwd)\n\u001b[1;32m---> <a href='vscode-notebook-cell:/c%3A/Users/Eachann/Desktop/228/tt100k_2021/yolov4-TT100k/test.ipynb#ch0000000?line=11'>12</a>\u001b[0m \u001b[39mimport\u001b[39;00m \u001b[39mtt100k_2021\u001b[39;00m\u001b[39m.\u001b[39;00m\u001b[39manno_func\u001b[39;00m\n\u001b[0;32m     <a href='vscode-notebook-cell:/c%3A/Users/Eachann/Desktop/228/tt100k_2021/yolov4-TT100k/test.ipynb#ch0000000?line=12'>13</a>\u001b[0m \u001b[39mfrom\u001b[39;00m \u001b[39myolo\u001b[39;00m \u001b[39mimport\u001b[39;00m YOLO\n\u001b[0;32m     <a href='vscode-notebook-cell:/c%3A/Users/Eachann/Desktop/228/tt100k_2021/yolov4-TT100k/test.ipynb#ch0000000?line=13'>14</a>\u001b[0m img_fina \u001b[39m=\u001b[39m \u001b[39m'\u001b[39m\u001b[39m43.jpg\u001b[39m\u001b[39m'\u001b[39m\n",
      "\u001b[1;31mModuleNotFoundError\u001b[0m: No module named 'tt100k_2021'"
     ]
    }
   ],
   "source": [
    "# ----------------------------------------------------#\n",
    "import time\n",
    "import sys\n",
    "import cv2\n",
    "import os \n",
    "import numpy as np\n",
    "from PIL import Image\n",
    "import matplotlib.pyplot as plt\n",
    "sys.path.append('yolov4-TT100k')\n",
    "#sys.path.append('../tt100k_2021')\n",
    "cwd = os.getcwd()\n",
    "print(cwd)\n",
    "import tt100k_2021.anno_func\n",
    "from yolo import YOLO\n",
    "img_fina = '43.jpg'\n",
    "im = plt.imread(img_fina)\n",
    "plt.imshow(im)\n",
    "print(img_fina,'!!!!!!!!!!!!!!!!!!!!!!')\n",
    "image = Image.open(img_fina)"
   ]
  }
 ],
 "metadata": {
  "interpreter": {
   "hash": "f4199c13b508d82d4f0006079c77b28de888f4ee301ff64a5dbc5b165bd2d999"
  },
  "kernelspec": {
   "display_name": "Python 3.9.0 64-bit",
   "language": "python",
   "name": "python3"
  },
  "language_info": {
   "codemirror_mode": {
    "name": "ipython",
    "version": 3
   },
   "file_extension": ".py",
   "mimetype": "text/x-python",
   "name": "python",
   "nbconvert_exporter": "python",
   "pygments_lexer": "ipython3",
   "version": "3.9.0"
  },
  "orig_nbformat": 4
 },
 "nbformat": 4,
 "nbformat_minor": 2
}
