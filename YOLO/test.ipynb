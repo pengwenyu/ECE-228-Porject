{
 "cells": [
  {
   "cell_type": "code",
   "execution_count": 28,
   "metadata": {},
   "outputs": [
    {
     "name": "stdout",
     "output_type": "stream",
     "text": [
      "c:\\Users\\Eachann\\Desktop\\228\\tt100k_2021\n",
      "The autoreload extension is already loaded. To reload it, use:\n",
      "  %reload_ext autoreload\n"
     ]
    }
   ],
   "source": [
    "# ----------------------------------------------------#\n",
    "import time\n",
    "import sys\n",
    "import cv2\n",
    "import os \n",
    "import numpy as np\n",
    "from PIL import Image\n",
    "import matplotlib.pyplot as plt\n",
    "sys.path.append('yolov4-TT100k')\n",
    "from yolo import YOLO\n",
    "#sys.path.append('../tt100k_2021')\n",
    "cwd = os.getcwd()\n",
    "print(cwd)\n",
    "%load_ext autoreload\n",
    "%autoreload 2"
   ]
  },
  {
   "cell_type": "code",
   "execution_count": 29,
   "metadata": {},
   "outputs": [
    {
     "name": "stdout",
     "output_type": "stream",
     "text": [
      "Loading weights into state dict...\n",
      "Finished!\n",
      "yolov4-TT100k/model_data/model_best.pth model, anchors, and classes loaded.\n"
     ]
    },
    {
     "ename": "AttributeError",
     "evalue": "ndim",
     "output_type": "error",
     "traceback": [
      "\u001b[1;31m---------------------------------------------------------------------------\u001b[0m",
      "\u001b[1;31mAttributeError\u001b[0m                            Traceback (most recent call last)",
      "\u001b[1;32mc:\\Users\\Eachann\\Desktop\\228\\tt100k_2021\\test.ipynb Cell 2'\u001b[0m in \u001b[0;36m<cell line: 1>\u001b[1;34m()\u001b[0m\n\u001b[0;32m     <a href='vscode-notebook-cell:/c%3A/Users/Eachann/Desktop/228/tt100k_2021/test.ipynb#ch0000001?line=9'>10</a>\u001b[0m     img \u001b[39m=\u001b[39m np\u001b[39m.\u001b[39marray(Image\u001b[39m.\u001b[39mopen(\u001b[39m'\u001b[39m\u001b[39mtrain/35.jpg\u001b[39m\u001b[39m'\u001b[39m))\n\u001b[0;32m     <a href='vscode-notebook-cell:/c%3A/Users/Eachann/Desktop/228/tt100k_2021/test.ipynb#ch0000001?line=10'>11</a>\u001b[0m     img \u001b[39m=\u001b[39m  Image\u001b[39m.\u001b[39mopen(\u001b[39m'\u001b[39m\u001b[39mtrain/35.jpg\u001b[39m\u001b[39m'\u001b[39m)\n\u001b[1;32m---> <a href='vscode-notebook-cell:/c%3A/Users/Eachann/Desktop/228/tt100k_2021/test.ipynb#ch0000001?line=11'>12</a>\u001b[0m     tact_time \u001b[39m=\u001b[39m yolo\u001b[39m.\u001b[39;49mcal_fps(img)\n\u001b[0;32m     <a href='vscode-notebook-cell:/c%3A/Users/Eachann/Desktop/228/tt100k_2021/test.ipynb#ch0000001?line=12'>13</a>\u001b[0m     \u001b[39mprint\u001b[39m(\u001b[39m'\u001b[39m\u001b[39mTotal time\u001b[39m\u001b[39m'\u001b[39m,tact_time,\u001b[39m'\u001b[39m\u001b[39mfps\u001b[39m\u001b[39m'\u001b[39m,\u001b[39m1\u001b[39m\u001b[39m/\u001b[39mtact_time)\n\u001b[0;32m     <a href='vscode-notebook-cell:/c%3A/Users/Eachann/Desktop/228/tt100k_2021/test.ipynb#ch0000001?line=13'>14</a>\u001b[0m \u001b[39melif\u001b[39;00m mode \u001b[39m==\u001b[39m\u001b[39m\"\u001b[39m\u001b[39mpredict\u001b[39m\u001b[39m\"\u001b[39m:\u001b[39m# another fps calculation. Change loop and use cv2 to plot result\u001b[39;00m\n\u001b[0;32m     <a href='vscode-notebook-cell:/c%3A/Users/Eachann/Desktop/228/tt100k_2021/test.ipynb#ch0000001?line=14'>15</a>\u001b[0m     \u001b[39m#img = input('Input image filename:')\u001b[39;00m\n",
      "File \u001b[1;32mc:\\Users\\Eachann\\Desktop\\228\\tt100k_2021\\yolov4-TT100k\\yolo.py:82\u001b[0m, in \u001b[0;36mYOLO.cal_fps\u001b[1;34m(self, images)\u001b[0m\n\u001b[0;32m     81\u001b[0m \u001b[39mdef\u001b[39;00m \u001b[39mcal_fps\u001b[39m(\u001b[39mself\u001b[39m,images):\n\u001b[1;32m---> 82\u001b[0m     images \u001b[39m=\u001b[39m np\u001b[39m.\u001b[39;49mmoveaxis(images,\u001b[39m3\u001b[39;49m,\u001b[39m1\u001b[39;49m)\n\u001b[0;32m     83\u001b[0m     images \u001b[39m=\u001b[39m torch\u001b[39m.\u001b[39mfrom_numpy(np\u001b[39m.\u001b[39mtile(images,(\u001b[39m1\u001b[39m,\u001b[39m1\u001b[39m,\u001b[39m1\u001b[39m,\u001b[39m10\u001b[39m)))\u001b[39m.\u001b[39mto(\u001b[39m'\u001b[39m\u001b[39mcuda\u001b[39m\u001b[39m'\u001b[39m)\n\u001b[0;32m     84\u001b[0m     res \u001b[39m=\u001b[39m \u001b[39mself\u001b[39m\u001b[39m.\u001b[39mnet(images)\n",
      "File \u001b[1;32m<__array_function__ internals>:5\u001b[0m, in \u001b[0;36mmoveaxis\u001b[1;34m(*args, **kwargs)\u001b[0m\n",
      "File \u001b[1;32mc:\\Users\\Eachann\\AppData\\Local\\Programs\\Python\\Python39\\lib\\site-packages\\numpy\\core\\numeric.py:1454\u001b[0m, in \u001b[0;36mmoveaxis\u001b[1;34m(a, source, destination)\u001b[0m\n\u001b[0;32m   1451\u001b[0m     a \u001b[39m=\u001b[39m asarray(a)\n\u001b[0;32m   1452\u001b[0m     transpose \u001b[39m=\u001b[39m a\u001b[39m.\u001b[39mtranspose\n\u001b[1;32m-> 1454\u001b[0m source \u001b[39m=\u001b[39m normalize_axis_tuple(source, a\u001b[39m.\u001b[39;49mndim, \u001b[39m'\u001b[39m\u001b[39msource\u001b[39m\u001b[39m'\u001b[39m)\n\u001b[0;32m   1455\u001b[0m destination \u001b[39m=\u001b[39m normalize_axis_tuple(destination, a\u001b[39m.\u001b[39mndim, \u001b[39m'\u001b[39m\u001b[39mdestination\u001b[39m\u001b[39m'\u001b[39m)\n\u001b[0;32m   1456\u001b[0m \u001b[39mif\u001b[39;00m \u001b[39mlen\u001b[39m(source) \u001b[39m!=\u001b[39m \u001b[39mlen\u001b[39m(destination):\n",
      "File \u001b[1;32mc:\\Users\\Eachann\\AppData\\Local\\Programs\\Python\\Python39\\lib\\site-packages\\PIL\\Image.py:548\u001b[0m, in \u001b[0;36mImage.__getattr__\u001b[1;34m(self, name)\u001b[0m\n\u001b[0;32m    541\u001b[0m     warnings\u001b[39m.\u001b[39mwarn(\n\u001b[0;32m    542\u001b[0m         \u001b[39m\"\u001b[39m\u001b[39mImage categories are deprecated and will be removed in Pillow 10 \u001b[39m\u001b[39m\"\u001b[39m\n\u001b[0;32m    543\u001b[0m         \u001b[39m\"\u001b[39m\u001b[39m(2023-07-01). Use is_animated instead.\u001b[39m\u001b[39m\"\u001b[39m,\n\u001b[0;32m    544\u001b[0m         \u001b[39mDeprecationWarning\u001b[39;00m,\n\u001b[0;32m    545\u001b[0m         stacklevel\u001b[39m=\u001b[39m\u001b[39m2\u001b[39m,\n\u001b[0;32m    546\u001b[0m     )\n\u001b[0;32m    547\u001b[0m     \u001b[39mreturn\u001b[39;00m \u001b[39mself\u001b[39m\u001b[39m.\u001b[39m_category\n\u001b[1;32m--> 548\u001b[0m \u001b[39mraise\u001b[39;00m \u001b[39mAttributeError\u001b[39;00m(name)\n",
      "\u001b[1;31mAttributeError\u001b[0m: ndim"
     ]
    }
   ],
   "source": [
    "if __name__ == \"__main__\":\n",
    "    yolo = YOLO()\n",
    "    mode = 'fps2'\n",
    "    if mode == \"fps\":\n",
    "        test_interval = 100\n",
    "        img =  Image.open('train/35.jpg')\n",
    "        tact_time = yolo.get_FPS(img, test_interval)\n",
    "        print(str(tact_time) + ' seconds, ' + str(1 / tact_time) + 'FPS, @batch_size 1')\n",
    "    elif mode == \"fps2\":\n",
    "        img = np.array(Image.open('train/35.jpg'))\n",
    "        #img =  Image.open('train/35.jpg')\n",
    "        tact_time = yolo.cal_fps(img)\n",
    "        print('Total time',tact_time,'fps',1/tact_time)\n",
    "    elif mode ==\"predict\":# another fps calculation. Change loop and use cv2 to plot result\n",
    "        #img = input('Input image filename:')\n",
    "        with open ('train/ids.txt') as f:\n",
    "            ids = f.readlines()\n",
    "            ids = [id for id in ids]\n",
    "        t1 = 0\n",
    "        for i in range(200):\n",
    "            ID = ids[i]\n",
    "            img_fina = 'train/'+ ID[:-1]+'.jpg'\n",
    "        # print(img_fina,')\n",
    "            image = Image.open(img_fina)\n",
    "            r_image,tt = yolo.detect_image(image)\n",
    "            t1 += tt\n",
    "            print('tt',tt)\n",
    "            #r_image.save(image)\n",
    "            #r_image.show()\n",
    "        print(t1,200/t1,t1/200)\n"
   ]
  }
 ],
 "metadata": {
  "interpreter": {
   "hash": "f4199c13b508d82d4f0006079c77b28de888f4ee301ff64a5dbc5b165bd2d999"
  },
  "kernelspec": {
   "display_name": "Python 3.9.0 64-bit",
   "language": "python",
   "name": "python3"
  },
  "language_info": {
   "codemirror_mode": {
    "name": "ipython",
    "version": 3
   },
   "file_extension": ".py",
   "mimetype": "text/x-python",
   "name": "python",
   "nbconvert_exporter": "python",
   "pygments_lexer": "ipython3",
   "version": "3.9.0"
  },
  "orig_nbformat": 4
 },
 "nbformat": 4,
 "nbformat_minor": 2
}
